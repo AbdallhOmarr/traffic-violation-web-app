{
 "cells": [
  {
   "cell_type": "code",
   "execution_count": 46,
   "metadata": {},
   "outputs": [],
   "source": [
    "#this notebook to upload excels to database"
   ]
  },
  {
   "cell_type": "code",
   "execution_count": 4,
   "metadata": {},
   "outputs": [],
   "source": [
    "import pandas as pd\n",
    "import mysql.connector\n",
    "import sqlite3"
   ]
  },
  {
   "cell_type": "code",
   "execution_count": null,
   "metadata": {},
   "outputs": [],
   "source": []
  },
  {
   "cell_type": "markdown",
   "metadata": {},
   "source": [
    "# Connect to db"
   ]
  },
  {
   "cell_type": "code",
   "execution_count": 6,
   "metadata": {},
   "outputs": [],
   "source": [
    "sqlite_database = 'db.sqlite3'\n"
   ]
  },
  {
   "cell_type": "code",
   "execution_count": 8,
   "metadata": {},
   "outputs": [
    {
     "name": "stdout",
     "output_type": "stream",
     "text": [
      "Connected to SQLite database\n",
      "Connection closed\n"
     ]
    }
   ],
   "source": [
    "try:\n",
    "    connection = sqlite3.connect(sqlite_database)\n",
    "    if connection:\n",
    "        print(\"Connected to SQLite database\")\n",
    "\n",
    "except sqlite3.Error as err:\n",
    "    print(f\"Error: {err}\")\n",
    "\n",
    "finally:\n",
    "    # Close the connection when done\n",
    "    if 'connection' in locals() and connection:\n",
    "        connection.close()\n",
    "        print(\"Connection closed\")\n"
   ]
  },
  {
   "cell_type": "code",
   "execution_count": 9,
   "metadata": {},
   "outputs": [],
   "source": [
    "df = pd.read_excel(r\"project_data\\employee data.xlsx\")"
   ]
  },
  {
   "cell_type": "code",
   "execution_count": 11,
   "metadata": {},
   "outputs": [],
   "source": [
    "df.rename(\n",
    "    columns={\n",
    "        \"PTC ID\":\"ptc_id\",\n",
    "        \"NAME\":\"employee_name\",\n",
    "        \"ID NUMBER\":\"ID_number\"\n",
    "    },inplace=True\n",
    ")"
   ]
  },
  {
   "cell_type": "code",
   "execution_count": 12,
   "metadata": {},
   "outputs": [
    {
     "name": "stdout",
     "output_type": "stream",
     "text": [
      "Connected to SQLite database\n",
      "Connection closed\n"
     ]
    }
   ],
   "source": [
    "try:\n",
    "    connection = sqlite3.connect(sqlite_database)\n",
    "\n",
    "    if connection:\n",
    "        print(\"Connected to SQLite database\")\n",
    "        cursor = connection.cursor()\n",
    "\n",
    "        for i, row in df.iterrows():\n",
    "            query = f\"\"\"\n",
    "                INSERT INTO website_employee (ptc_id, employee_name, ID_number)\n",
    "                VALUES (?, ?, ?);\n",
    "            \"\"\"\n",
    "            cursor.execute(query, (row['ptc_id'], row['employee_name'], row['ID_number']))\n",
    "\n",
    "        connection.commit()\n",
    "\n",
    "except sqlite3.Error as err:\n",
    "    print(f\"Error: {err}\")\n",
    "\n",
    "finally:\n",
    "    # Close the connection when done\n",
    "    if 'connection' in locals() and connection:\n",
    "        connection.close()\n",
    "        print(\"Connection closed\")\n"
   ]
  },
  {
   "cell_type": "code",
   "execution_count": 11,
   "metadata": {},
   "outputs": [],
   "source": [
    "# MySQL database connection parameters\n",
    "mysql_username = 'root'\n",
    "mysql_password = 'hp3416431#'\n",
    "mysql_host = 'localhost'\n",
    "mysql_port = 8051\n",
    "mysql_database = 'mydb'\n",
    "# Create a connection string\n",
    "connection_string = f\"mysql+mysqlconnector://{mysql_username}:{mysql_password}@{mysql_host}:{mysql_port}/{mysql_database}\"\n"
   ]
  },
  {
   "cell_type": "code",
   "execution_count": 12,
   "metadata": {},
   "outputs": [
    {
     "data": {
      "text/html": [
       "<div>\n",
       "<style scoped>\n",
       "    .dataframe tbody tr th:only-of-type {\n",
       "        vertical-align: middle;\n",
       "    }\n",
       "\n",
       "    .dataframe tbody tr th {\n",
       "        vertical-align: top;\n",
       "    }\n",
       "\n",
       "    .dataframe thead th {\n",
       "        text-align: right;\n",
       "    }\n",
       "</style>\n",
       "<table border=\"1\" class=\"dataframe\">\n",
       "  <thead>\n",
       "    <tr style=\"text-align: right;\">\n",
       "      <th></th>\n",
       "      <th>ptc_id</th>\n",
       "      <th>employee_name</th>\n",
       "      <th>ID_number</th>\n",
       "    </tr>\n",
       "  </thead>\n",
       "  <tbody>\n",
       "    <tr>\n",
       "      <th>0</th>\n",
       "      <td>12041</td>\n",
       "      <td>RUKSHAN SUMITH W W ARACHCHILLAGE</td>\n",
       "      <td>2511259174</td>\n",
       "    </tr>\n",
       "    <tr>\n",
       "      <th>1</th>\n",
       "      <td>12048</td>\n",
       "      <td>SUYAMA PATHMAKUMARA K A MUDIYANSELAGE</td>\n",
       "      <td>2511293777</td>\n",
       "    </tr>\n",
       "    <tr>\n",
       "      <th>2</th>\n",
       "      <td>12056</td>\n",
       "      <td>TRIVON CRASLY</td>\n",
       "      <td>2511295103</td>\n",
       "    </tr>\n",
       "    <tr>\n",
       "      <th>3</th>\n",
       "      <td>12052</td>\n",
       "      <td>DUMITH RAVINDRA H H MUDIYANSELAGE</td>\n",
       "      <td>2511295442</td>\n",
       "    </tr>\n",
       "    <tr>\n",
       "      <th>4</th>\n",
       "      <td>12042</td>\n",
       "      <td>MOHAMED HISHAM MOHAMED HASSAN</td>\n",
       "      <td>2511295913</td>\n",
       "    </tr>\n",
       "  </tbody>\n",
       "</table>\n",
       "</div>"
      ],
      "text/plain": [
       "   ptc_id                          employee_name   ID_number\n",
       "0   12041       RUKSHAN SUMITH W W ARACHCHILLAGE  2511259174\n",
       "1   12048  SUYAMA PATHMAKUMARA K A MUDIYANSELAGE  2511293777\n",
       "2   12056                          TRIVON CRASLY  2511295103\n",
       "3   12052      DUMITH RAVINDRA H H MUDIYANSELAGE  2511295442\n",
       "4   12042          MOHAMED HISHAM MOHAMED HASSAN  2511295913"
      ]
     },
     "execution_count": 12,
     "metadata": {},
     "output_type": "execute_result"
    }
   ],
   "source": [
    "df.head()"
   ]
  },
  {
   "cell_type": "markdown",
   "metadata": {},
   "source": [
    "# Add Employee data"
   ]
  },
  {
   "cell_type": "code",
   "execution_count": 13,
   "metadata": {},
   "outputs": [
    {
     "name": "stdout",
     "output_type": "stream",
     "text": [
      "Connected to MySQL database\n",
      "Connection closed\n"
     ]
    }
   ],
   "source": [
    "\n",
    "try:\n",
    "    connection = mysql.connector.connect(\n",
    "        user=mysql_username,\n",
    "        password=mysql_password,\n",
    "        host=mysql_host,\n",
    "        port=mysql_port,\n",
    "        database=mysql_database\n",
    "    )\n",
    "\n",
    "    if connection.is_connected():\n",
    "        print(\"Connected to MySQL database\")\n",
    "        cursor = connection.cursor()\n",
    "\n",
    "        for i, row in df.iterrows():\n",
    "            query = f\"\"\"\n",
    "                INSERT INTO website_employee (ptc_id, employee_name, ID_number)\n",
    "                VALUES ({row['ptc_id']}, '{row['employee_name']}', {row['ID_number']});\n",
    "            \"\"\"\n",
    "            cursor.execute(query)\n",
    "\n",
    "        connection.commit()\n",
    "\n",
    "except mysql.connector.Error as err:\n",
    "    print(f\"Error: {err}\")\n",
    "\n",
    "finally:\n",
    "    # Close the connection when done\n",
    "    if 'connection' in locals() and connection.is_connected():\n",
    "        connection.close()\n",
    "        print(\"Connection closed\")\n"
   ]
  },
  {
   "cell_type": "markdown",
   "metadata": {},
   "source": [
    "# Delete All existing violation data"
   ]
  },
  {
   "cell_type": "code",
   "execution_count": 20,
   "metadata": {},
   "outputs": [
    {
     "name": "stdout",
     "output_type": "stream",
     "text": [
      "Connected to MySQL database\n",
      "[]\n",
      "Connection closed\n"
     ]
    }
   ],
   "source": [
    "try:\n",
    "    connection = mysql.connector.connect(\n",
    "        user=mysql_username,\n",
    "        password=mysql_password,\n",
    "        host=mysql_host,\n",
    "        port=mysql_port,\n",
    "        database=mysql_database\n",
    "    )\n",
    "\n",
    "    if connection.is_connected():\n",
    "        print(\"Connected to MySQL database\")\n",
    "        cursor = connection.cursor()\n",
    "\n",
    "        table_name = \"website_violation\"\n",
    "\n",
    "        # Create and execute the DELETE query\n",
    "        delete_query = f\"DELETE FROM {table_name}\"\n",
    "        cursor.execute(delete_query)\n",
    "\n",
    "        results = cursor.fetchall()\n",
    "        print(results)\n",
    "\n",
    "        connection.commit()\n",
    "\n",
    "except mysql.connector.Error as err:\n",
    "    print(f\"Error: {err}\")\n",
    "\n",
    "finally:\n",
    "    # Close the connection when done\n",
    "    if 'connection' in locals() and connection.is_connected():\n",
    "        connection.close()\n",
    "        print(\"Connection closed\")\n"
   ]
  },
  {
   "cell_type": "markdown",
   "metadata": {},
   "source": [
    "# Add vehicles data "
   ]
  },
  {
   "cell_type": "code",
   "execution_count": 13,
   "metadata": {},
   "outputs": [
    {
     "data": {
      "text/html": [
       "<div>\n",
       "<style scoped>\n",
       "    .dataframe tbody tr th:only-of-type {\n",
       "        vertical-align: middle;\n",
       "    }\n",
       "\n",
       "    .dataframe tbody tr th {\n",
       "        vertical-align: top;\n",
       "    }\n",
       "\n",
       "    .dataframe thead th {\n",
       "        text-align: right;\n",
       "    }\n",
       "</style>\n",
       "<table border=\"1\" class=\"dataframe\">\n",
       "  <thead>\n",
       "    <tr style=\"text-align: right;\">\n",
       "      <th></th>\n",
       "      <th>SR</th>\n",
       "      <th>plate_eng</th>\n",
       "      <th>plate_ar</th>\n",
       "      <th>fleet_no</th>\n",
       "      <th>vehicle_user</th>\n",
       "    </tr>\n",
       "  </thead>\n",
       "  <tbody>\n",
       "    <tr>\n",
       "      <th>0</th>\n",
       "      <td>1</td>\n",
       "      <td>8541GDB</td>\n",
       "      <td>أ س م 4644</td>\n",
       "      <td>21001</td>\n",
       "      <td>East Depot</td>\n",
       "    </tr>\n",
       "    <tr>\n",
       "      <th>1</th>\n",
       "      <td>2</td>\n",
       "      <td>3499DRA</td>\n",
       "      <td>أ ر د 3499</td>\n",
       "      <td>21002</td>\n",
       "      <td>West Depot</td>\n",
       "    </tr>\n",
       "    <tr>\n",
       "      <th>2</th>\n",
       "      <td>3</td>\n",
       "      <td>3479DRA</td>\n",
       "      <td>أ ر د 3479</td>\n",
       "      <td>21003</td>\n",
       "      <td>West Depot</td>\n",
       "    </tr>\n",
       "    <tr>\n",
       "      <th>3</th>\n",
       "      <td>4</td>\n",
       "      <td>3475DRA</td>\n",
       "      <td>أ ر د 3475</td>\n",
       "      <td>21004</td>\n",
       "      <td>East Depot</td>\n",
       "    </tr>\n",
       "    <tr>\n",
       "      <th>4</th>\n",
       "      <td>5</td>\n",
       "      <td>6877BRA</td>\n",
       "      <td>أ ر ب 6877</td>\n",
       "      <td>21005</td>\n",
       "      <td>West Depot</td>\n",
       "    </tr>\n",
       "  </tbody>\n",
       "</table>\n",
       "</div>"
      ],
      "text/plain": [
       "   SR plate_eng    plate_ar  fleet_no vehicle_user\n",
       "0   1   8541GDB  أ س م 4644     21001   East Depot\n",
       "1   2   3499DRA  أ ر د 3499     21002   West Depot\n",
       "2   3   3479DRA  أ ر د 3479     21003   West Depot\n",
       "3   4   3475DRA  أ ر د 3475     21004   East Depot\n",
       "4   5   6877BRA  أ ر ب 6877     21005   West Depot"
      ]
     },
     "execution_count": 13,
     "metadata": {},
     "output_type": "execute_result"
    }
   ],
   "source": [
    "df = pd.read_excel(r\"vehicle_data.xlsx\",sheet_name=\"Sheet2\")\n",
    "df.head()"
   ]
  },
  {
   "cell_type": "code",
   "execution_count": 16,
   "metadata": {},
   "outputs": [
    {
     "name": "stdout",
     "output_type": "stream",
     "text": [
      "Connected to SQLite database\n",
      "Vehicle data successfully updated\n",
      "Connection closed\n"
     ]
    }
   ],
   "source": [
    "\n",
    "# Establish a connection\n",
    "try:\n",
    "    connection = sqlite3.connect(sqlite_database)\n",
    "\n",
    "    if connection:\n",
    "        print(\"Connected to SQLite database\")\n",
    "        cursor = connection.cursor()\n",
    "\n",
    "        table_name = \"website_vehicle\"\n",
    "\n",
    "        for i, row in df.iterrows():\n",
    "            query = f\"\"\"\n",
    "                INSERT INTO website_vehicle (fleet_no, vehicle_user, plate_eng, plate_ar, vehicle_type)\n",
    "                VALUES ('{row['fleet_no']}', '{row['vehicle_user']}', '{row['plate_eng']}', '{row['plate_ar']}', 'Bus');\n",
    "            \"\"\"\n",
    "            cursor.execute(query)\n",
    "\n",
    "        connection.commit()\n",
    "\n",
    "        print(\"Vehicle data successfully updated\")\n",
    "\n",
    "except mysql.connector.Error as err:\n",
    "    print(f\"Error: {err}\")\n",
    "\n",
    "finally:\n",
    "    # Close the connection when done\n",
    "    connection.close()\n",
    "    print(\"Connection closed\")\n"
   ]
  },
  {
   "cell_type": "markdown",
   "metadata": {},
   "source": [
    "# Delete all vehicle data"
   ]
  },
  {
   "cell_type": "code",
   "execution_count": 25,
   "metadata": {},
   "outputs": [
    {
     "name": "stdout",
     "output_type": "stream",
     "text": [
      "Connected to MySQL database\n",
      "[]\n",
      "Connection closed\n"
     ]
    }
   ],
   "source": [
    "\n",
    "# Establish a connection\n",
    "try:\n",
    "    connection = mysql.connector.connect(\n",
    "        user=mysql_username,\n",
    "        password=mysql_password,\n",
    "        host=mysql_host,\n",
    "        port=mysql_port,\n",
    "        database=mysql_database\n",
    "    )\n",
    "\n",
    "    if connection.is_connected():\n",
    "        print(\"Connected to MySQL database\")\n",
    "        cursor = connection.cursor()\n",
    "\n",
    "        table_name = \"website_vehicle\"\n",
    "\n",
    "        delete_query = f\"DELETE FROM {table_name}\"\n",
    "\n",
    "        cursor.execute(delete_query)\n",
    "\n",
    "\n",
    "except mysql.connector.Error as err:\n",
    "    print(f\"Error: {err}\")\n",
    "\n",
    "finally:\n",
    "    # Close the connection when done\n",
    "    if 'connection' in locals() and connection.is_connected():\n",
    "        connection.close()\n",
    "        print(\"Connection closed\")\n"
   ]
  },
  {
   "cell_type": "markdown",
   "metadata": {},
   "source": [
    "# View all vehicle data"
   ]
  },
  {
   "cell_type": "code",
   "execution_count": 16,
   "metadata": {},
   "outputs": [
    {
     "name": "stdout",
     "output_type": "stream",
     "text": [
      "Connected to MySQL database\n",
      "Connection closed\n"
     ]
    }
   ],
   "source": [
    "# Establish a connection\n",
    "try:\n",
    "    connection = mysql.connector.connect(\n",
    "        user=mysql_username,\n",
    "        password=mysql_password,\n",
    "        host=mysql_host,\n",
    "        port=mysql_port,\n",
    "        database=mysql_database\n",
    "    )\n",
    "\n",
    "    if connection.is_connected():\n",
    "        print(\"Connected to MySQL database\")\n",
    "        cursor = connection.cursor()\n",
    "\n",
    "        table_name = \"website_vehicle\"\n",
    "        query = f\"SELECT * FROM website_vehicle\"\n",
    "        cursor.execute(query)\n",
    "        res = cursor.fetchall()\n",
    "        vehicle_df = pd.DataFrame(res)\n",
    "\n",
    "\n",
    "except mysql.connector.Error as err:\n",
    "    print(f\"Error: {err}\")\n",
    "\n",
    "finally:\n",
    "    # Close the connection when done\n",
    "    if 'connection' in locals() and connection.is_connected():\n",
    "        connection.close()\n",
    "        print(\"Connection closed\")\n"
   ]
  },
  {
   "cell_type": "code",
   "execution_count": 17,
   "metadata": {},
   "outputs": [
    {
     "data": {
      "text/html": [
       "<div>\n",
       "<style scoped>\n",
       "    .dataframe tbody tr th:only-of-type {\n",
       "        vertical-align: middle;\n",
       "    }\n",
       "\n",
       "    .dataframe tbody tr th {\n",
       "        vertical-align: top;\n",
       "    }\n",
       "\n",
       "    .dataframe thead th {\n",
       "        text-align: right;\n",
       "    }\n",
       "</style>\n",
       "<table border=\"1\" class=\"dataframe\">\n",
       "  <thead>\n",
       "    <tr style=\"text-align: right;\">\n",
       "      <th></th>\n",
       "      <th>0</th>\n",
       "      <th>1</th>\n",
       "      <th>2</th>\n",
       "      <th>3</th>\n",
       "      <th>4</th>\n",
       "    </tr>\n",
       "  </thead>\n",
       "  <tbody>\n",
       "    <tr>\n",
       "      <th>0</th>\n",
       "      <td>401</td>\n",
       "      <td>MOBILE WORKSHOP ENG</td>\n",
       "      <td>2808HRB</td>\n",
       "      <td>ب ر ه 2808</td>\n",
       "      <td>Bus</td>\n",
       "    </tr>\n",
       "    <tr>\n",
       "      <th>1</th>\n",
       "      <td>402</td>\n",
       "      <td>MOBILE WORKSHOP ENG</td>\n",
       "      <td>2842HRB</td>\n",
       "      <td>ب ر ه 2842</td>\n",
       "      <td>Bus</td>\n",
       "    </tr>\n",
       "    <tr>\n",
       "      <th>2</th>\n",
       "      <td>42193</td>\n",
       "      <td>East Depot</td>\n",
       "      <td>3053ERA</td>\n",
       "      <td>أ ر ع 3053</td>\n",
       "      <td>Bus</td>\n",
       "    </tr>\n",
       "    <tr>\n",
       "      <th>3</th>\n",
       "      <td>42075</td>\n",
       "      <td>East Depot</td>\n",
       "      <td>3054ERA</td>\n",
       "      <td>أ ر ع 3054</td>\n",
       "      <td>Bus</td>\n",
       "    </tr>\n",
       "    <tr>\n",
       "      <th>4</th>\n",
       "      <td>32183</td>\n",
       "      <td>East Depot</td>\n",
       "      <td>3055ERA</td>\n",
       "      <td>أ ر ع 3055</td>\n",
       "      <td>Bus</td>\n",
       "    </tr>\n",
       "  </tbody>\n",
       "</table>\n",
       "</div>"
      ],
      "text/plain": [
       "       0                    1        2           3    4\n",
       "0    401  MOBILE WORKSHOP ENG  2808HRB  ب ر ه 2808  Bus\n",
       "1    402  MOBILE WORKSHOP ENG  2842HRB  ب ر ه 2842  Bus\n",
       "2  42193           East Depot  3053ERA  أ ر ع 3053  Bus\n",
       "3  42075           East Depot  3054ERA  أ ر ع 3054  Bus\n",
       "4  32183           East Depot  3055ERA  أ ر ع 3055  Bus"
      ]
     },
     "execution_count": 17,
     "metadata": {},
     "output_type": "execute_result"
    }
   ],
   "source": [
    "vehicle_df.head()"
   ]
  },
  {
   "cell_type": "code",
   "execution_count": null,
   "metadata": {},
   "outputs": [],
   "source": []
  }
 ],
 "metadata": {
  "kernelspec": {
   "display_name": "myenv",
   "language": "python",
   "name": "python3"
  },
  "language_info": {
   "codemirror_mode": {
    "name": "ipython",
    "version": 3
   },
   "file_extension": ".py",
   "mimetype": "text/x-python",
   "name": "python",
   "nbconvert_exporter": "python",
   "pygments_lexer": "ipython3",
   "version": "3.11.4"
  }
 },
 "nbformat": 4,
 "nbformat_minor": 2
}
