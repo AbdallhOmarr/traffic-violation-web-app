{
 "cells": [
  {
   "cell_type": "code",
   "execution_count": 46,
   "metadata": {},
   "outputs": [],
   "source": [
    "#this notebook to upload excels to database"
   ]
  },
  {
   "cell_type": "code",
   "execution_count": 2,
   "metadata": {},
   "outputs": [],
   "source": [
    "import pandas as pd "
   ]
  },
  {
   "cell_type": "code",
   "execution_count": 3,
   "metadata": {},
   "outputs": [],
   "source": [
    "import sqlite3 "
   ]
  },
  {
   "cell_type": "code",
   "execution_count": 68,
   "metadata": {},
   "outputs": [],
   "source": [
    "conn  = sqlite3.connect(\"db.sqlite3\")"
   ]
  },
  {
   "cell_type": "code",
   "execution_count": 69,
   "metadata": {},
   "outputs": [],
   "source": [
    "# uploading employee data"
   ]
  },
  {
   "cell_type": "code",
   "execution_count": 4,
   "metadata": {},
   "outputs": [],
   "source": [
    "df = pd.read_excel('project_data\\employee data.xlsx')"
   ]
  },
  {
   "cell_type": "code",
   "execution_count": 5,
   "metadata": {},
   "outputs": [],
   "source": [
    "df.rename(\n",
    "    columns={\n",
    "        \"PTC ID\":\"ptc_id\",\n",
    "        \"NAME\":\"employee_name\",\n",
    "        \"ID NUMBER\":\"ID_number\"\n",
    "    },inplace=True\n",
    ")"
   ]
  },
  {
   "cell_type": "code",
   "execution_count": 6,
   "metadata": {},
   "outputs": [
    {
     "ename": "NameError",
     "evalue": "name 'conn' is not defined",
     "output_type": "error",
     "traceback": [
      "\u001b[1;31m---------------------------------------------------------------------------\u001b[0m",
      "\u001b[1;31mNameError\u001b[0m                                 Traceback (most recent call last)",
      "Cell \u001b[1;32mIn[6], line 1\u001b[0m\n\u001b[1;32m----> 1\u001b[0m df\u001b[38;5;241m.\u001b[39mto_sql(\u001b[38;5;124m'\u001b[39m\u001b[38;5;124mwebsite_employee\u001b[39m\u001b[38;5;124m'\u001b[39m, \u001b[43mconn\u001b[49m, index\u001b[38;5;241m=\u001b[39m\u001b[38;5;28;01mFalse\u001b[39;00m, if_exists\u001b[38;5;241m=\u001b[39m\u001b[38;5;124m'\u001b[39m\u001b[38;5;124mreplace\u001b[39m\u001b[38;5;124m'\u001b[39m)\n",
      "\u001b[1;31mNameError\u001b[0m: name 'conn' is not defined"
     ]
    }
   ],
   "source": [
    "df.to_sql('website_employee', conn, index=False, if_exists='replace')\n"
   ]
  },
  {
   "cell_type": "code",
   "execution_count": 73,
   "metadata": {},
   "outputs": [],
   "source": [
    "conn.close()"
   ]
  },
  {
   "cell_type": "code",
   "execution_count": 11,
   "metadata": {},
   "outputs": [
    {
     "data": {
      "text/html": [
       "<div>\n",
       "<style scoped>\n",
       "    .dataframe tbody tr th:only-of-type {\n",
       "        vertical-align: middle;\n",
       "    }\n",
       "\n",
       "    .dataframe tbody tr th {\n",
       "        vertical-align: top;\n",
       "    }\n",
       "\n",
       "    .dataframe thead th {\n",
       "        text-align: right;\n",
       "    }\n",
       "</style>\n",
       "<table border=\"1\" class=\"dataframe\">\n",
       "  <thead>\n",
       "    <tr style=\"text-align: right;\">\n",
       "      <th></th>\n",
       "      <th>ptc_id</th>\n",
       "      <th>employee_name</th>\n",
       "      <th>ID_number</th>\n",
       "    </tr>\n",
       "  </thead>\n",
       "  <tbody>\n",
       "    <tr>\n",
       "      <th>0</th>\n",
       "      <td>12041</td>\n",
       "      <td>RUKSHAN SUMITH W W ARACHCHILLAGE</td>\n",
       "      <td>2511259174</td>\n",
       "    </tr>\n",
       "    <tr>\n",
       "      <th>1</th>\n",
       "      <td>12048</td>\n",
       "      <td>SUYAMA PATHMAKUMARA K A MUDIYANSELAGE</td>\n",
       "      <td>2511293777</td>\n",
       "    </tr>\n",
       "    <tr>\n",
       "      <th>2</th>\n",
       "      <td>12056</td>\n",
       "      <td>TRIVON CRASLY</td>\n",
       "      <td>2511295103</td>\n",
       "    </tr>\n",
       "    <tr>\n",
       "      <th>3</th>\n",
       "      <td>12052</td>\n",
       "      <td>DUMITH RAVINDRA H H MUDIYANSELAGE</td>\n",
       "      <td>2511295442</td>\n",
       "    </tr>\n",
       "    <tr>\n",
       "      <th>4</th>\n",
       "      <td>12042</td>\n",
       "      <td>MOHAMED HISHAM MOHAMED HASSAN</td>\n",
       "      <td>2511295913</td>\n",
       "    </tr>\n",
       "  </tbody>\n",
       "</table>\n",
       "</div>"
      ],
      "text/plain": [
       "   ptc_id                          employee_name   ID_number\n",
       "0   12041       RUKSHAN SUMITH W W ARACHCHILLAGE  2511259174\n",
       "1   12048  SUYAMA PATHMAKUMARA K A MUDIYANSELAGE  2511293777\n",
       "2   12056                          TRIVON CRASLY  2511295103\n",
       "3   12052      DUMITH RAVINDRA H H MUDIYANSELAGE  2511295442\n",
       "4   12042          MOHAMED HISHAM MOHAMED HASSAN  2511295913"
      ]
     },
     "execution_count": 11,
     "metadata": {},
     "output_type": "execute_result"
    }
   ],
   "source": [
    "df.head()"
   ]
  },
  {
   "cell_type": "code",
   "execution_count": 12,
   "metadata": {},
   "outputs": [
    {
     "name": "stdout",
     "output_type": "stream",
     "text": [
      "Connected to MySQL database\n",
      "Connection closed\n"
     ]
    }
   ],
   "source": [
    "import pandas as pd\n",
    "import mysql.connector\n",
    "\n",
    "# Assuming 'df' is your DataFrame with data\n",
    "# For example, df = pd.DataFrame({'ptc_id': [12041, 12048, 12056, 12052, 12042],\n",
    "#                                'employee_name': ['RUKSHAN SUMITH W W ARACHCHILLAGE', 'SUYAMA PATHMAKUMARA K A MUDIYANSELAGE', 'TRIVON CRASLY', 'DUMITH RAVINDRA H H MUDIYANSELAGE', 'MOHAMED HISHAM MOHAMED HASSAN'],\n",
    "#                                'ID_number': [2511259174, 2511293777, 2511295103, 2511295442, 2511295913]})\n",
    "\n",
    "# MySQL database connection parameters\n",
    "mysql_username = 'root'\n",
    "mysql_password = 'hp3416431#'\n",
    "mysql_host = 'localhost'\n",
    "mysql_port = 3306\n",
    "mysql_database = 'mydb'\n",
    "\n",
    "# Create a connection string\n",
    "connection_string = f\"mysql+mysqlconnector://{mysql_username}:{mysql_password}@{mysql_host}:{mysql_port}/{mysql_database}\"\n",
    "\n",
    "# Establish a connection\n",
    "try:\n",
    "    connection = mysql.connector.connect(\n",
    "        user=mysql_username,\n",
    "        password=mysql_password,\n",
    "        host=mysql_host,\n",
    "        port=mysql_port,\n",
    "        database=mysql_database\n",
    "    )\n",
    "\n",
    "    if connection.is_connected():\n",
    "        print(\"Connected to MySQL database\")\n",
    "        cursor = connection.cursor()\n",
    "\n",
    "        for i, row in df.iterrows():\n",
    "            query = f\"\"\"\n",
    "                INSERT INTO website_employee (ptc_id, employee_name, ID_number)\n",
    "                VALUES ({row['ptc_id']}, '{row['employee_name']}', {row['ID_number']});\n",
    "            \"\"\"\n",
    "            cursor.execute(query)\n",
    "\n",
    "        connection.commit()\n",
    "\n",
    "except mysql.connector.Error as err:\n",
    "    print(f\"Error: {err}\")\n",
    "\n",
    "finally:\n",
    "    # Close the connection when done\n",
    "    if 'connection' in locals() and connection.is_connected():\n",
    "        connection.close()\n",
    "        print(\"Connection closed\")\n"
   ]
  },
  {
   "cell_type": "code",
   "execution_count": 14,
   "metadata": {},
   "outputs": [
    {
     "name": "stdout",
     "output_type": "stream",
     "text": [
      "Connected to MySQL database\n",
      "[(10080, 'LIAQAT KHAN MANI KHAN', 2466584147), (10081, 'ADEEL YAQOOB MUHAMMAD YAQOOB', 2466584303), (10083, 'SHERAZ AHMED YOUNIS UR REHMAN', 2466585318), (10088, 'MUHAMMAD TOSIF ANJAM MUHAMMAD SADDEEQ', 2466498579), (10091, 'MUHAMMAD IRFAN ZAHOOR HUSSAIN', 2466498538), (10092, 'ANSAR MAROOF MAROOF AHMED', 2466697600), (10093, 'SYED IMTIAZ HUSSAIN SHAH CHAN BADSHAH', 2466600653), (10272, 'AWAIS PERVAZ PERVAZ AKHTER', 2466585508), (10352, 'MUHAMMAD NAEEM KHAN FEROZ ADALAT KHAN', 2468124157), (10478, 'MUHAMMAD WAQAS NAZAR MUHAMMAD', 2469635722), (10480, 'SAQIB ALI MUHAMMAD ALI', 2469636001), (10485, 'SAEED AKHTAR MOHAMMAD SIDDIQ KHAN', 2469762344), (10490, 'ALI BAHADAR MUHAMMAD FAQIR KHAN', 2469634287), (10492, 'ASIF MEHMOOD MUHAMMAD ASHRAF', 2469635946), (10499, 'MUDASSAR ZULFIQAR MUHAMMAD ZULFIQAR KHAN', 2469762781), (10500, 'SHAWAIZ MUZAFFAR MUZAFFAR HUSSAIN', 2469764571), (10511, 'ASIF BACHA ABDUL MABOOD BACHA', 2469763698), (10512, 'MEHMOOD AKHTAR MUHAMMAD AKHTAR', 2469635904), (10592, 'MALIK AAMIR IQBAL MALIK ASHIQ HUSSAIN', 2470049921), (10650, 'ABDULGHAFFAR BARKAT ALI', 2470534625), (10652, 'FAROOQ AHMAD ABDUL SATTAR', 2471245528), (10653, 'HARIS AHMED ZAHOOR HUSSAIN', 2470534542), (10657, 'MUBASHIR HUSSAIN FATEH KHAN', 2470699204), (10670, 'SAQIB SIDDIQUE SIDDIQUE AHMED KHAN', 2470739927), (10678, 'ZULFIQAR AHMED ALI MARDAN', 2470531639), (10680, 'ABID NAWAZ LAL KHAN', 2470557451), (10684, 'GULFARAZ AHMED MUHAMMAD RAFIQ', 2470828043), (10685, 'IBRAR HUSSAIN MUHAMMAD MUSHTAQ', 2470742590), (10688, 'KAMRAN AFSAR MUHAMMAD AFSAR', 2470531209), (10692, 'MUHAMMAD AKRAM ABDUL LATIF', 2470812021), (10694, 'MUHAMMAD FAROOQ MUGHAL MUHAMMAD AKRAM MUGHAL', 2470557170), (10698, 'MUHAMMAD NASIM MUHAMMAD AYUB', 2470529468), (10826, 'TUFAIL MEHMOOD TARIQ MEHMOOD', 2471359840), (12036, 'SAWEER MUHAMMADU SAKKAAB', 2511301638), (12037, 'ANURUDDHA PANDUKA JAYATHILAKA KUDAMULACHARIGE', 2511300911), (12038, 'CHAMINDA KUMARA B A PEDIGE', 2511301190), (12039, 'ARUNA BUDDIKA MAGAGE', 2511301034), (12040, 'MOHAN RAJ RAJAMANIKKAM SRI', 2511301364), (12041, 'RUKSHAN SUMITH W W ARACHCHILLAGE', 2511259174), (12042, 'MOHAMED HISHAM MOHAMED HASSAN', 2511295913), (12043, 'MOHAMED RASMIN ABDULRAZZACK', 2511299790), (12045, 'AJITH RAVINDRA K M ARACHCHILAGE', 2511300267), (12046, 'VIDEHA MEWAN GAMAGE', 2511299584), (12047, 'SAMPATH CHAMINDA DEEPAL JAYASINGHE', 2511303428), (12048, 'SUYAMA PATHMAKUMARA K A MUDIYANSELAGE', 2511293777), (12049, 'NIPUN SANGEETH PERERA HALNETHTHI', 2511298669), (12050, 'LALITH SAMAN K A ATHUKORALLAGE', 2511298099), (12051, 'INDIKA UDARA P D PATHIRANNEHELAG', 2511300457), (12052, 'DUMITH RAVINDRA H H MUDIYANSELAGE', 2511295442), (12053, 'SHANIL LAKSHMAN J S GOONEWARDENE', 2511303303), (12055, 'MOHAMED ZIYATH ABDULMUNAF', 2511300119), (12056, 'TRIVON CRASLY', 2511295103), (12058, 'ROHANA NIHAL CORERA', 2511301828), (12059, 'GAYAN ASANTHA KARANAMMUNIGE', 2511298479), (12117, 'NAYANA PRASAD WANIGASEKARA', 2513121828), (12118, 'MOHAMED AHZAN ALIYAR', 2513807053), (12119, 'ARUL PERUMALPILLAI JEYARAJAH', 2513118956), (12120, 'INDRAJITH MADUSANKHA ALAHAKOON MUDIYANSELAGE', 2513807673), (12121, 'MOHAMED RANEES MOHAMED FALOON', 2513122255), (12122, 'MOHAMED AMEEN BISHRUL HAAFY', 2513123667), (12123, 'MOHAMED SIMLAN HUSSAIN SATHAR', 2513125860), (12124, 'FAIZAR JALALDEEN', 2513128336), (12125, 'MUHAMMEDH IRFAN MUHAMMEDH FURKHAN', 2513121356), (12126, 'DHANUSHKA SRINATH M B WADUGE', 2513118568), (12127, 'MOHAMED ANSHAF MOHAMED SHUKOOR', 2513124269), (12128, 'INDIKA PRASAD K G M KANKANAMGE', 2513124822), (12129, 'SUDESH FERNANDO WARNAKULASURIYA', 2513124657), (12130, 'NUWAN CHAMARA MALLAWA ARACHCHILAGE', 2513125597), (12131, 'NIROSHAN SANJAYA M A M ARACHCHIGE', 2513123170), (12132, 'CHAMIL PRIYANKARA L L PATHIRANAGE', 2513121554), (12134, 'SUSITH ISHARA HETTIGE DON', 2513128930), (12135, 'NUWAN SANDARUWAN WICKRAMAGE DON', 2513122446), (12136, 'PRASAD NIROSHAN NAWADOWA VITHANAGE', 2513117735), (12137, 'MOHAMED NABEETH NASAR', 2513123394), (12138, 'MOHAMED RIYAS MOHAMED FAROOK', 2513122024), (12139, 'SURESH KANTHAIYA SIVARAJAH', 2513118048), (12140, 'DARSHANA NUWAN A R DEWAGE', 2513121042), (12153, 'EGODAHAGE CHAMIL S D ALWIS', 2513145066), (12154, 'PEELIKS THIRUCHELVAM', 2512948502), (12155, 'ABDUL SHAKOOR UDAYAR', 2512953734), (12156, 'CHAMINDA BALAPUWADUGE MENDIS', 2512966538), (12157, 'NAWSHAD ALI MOHAMED HUSEIN', 2512969938), (12158, 'ANURADA SAMAN K R KANKANAMGE', 2512950094), (12159, 'MOHAMMED RIYAS MOHAMMED RAFEEN', 2512969128), (12160, 'JAYANTHA GUNASEKARA YATIKEHELWALA HETTIGE', 2512969748), (12161, 'MOHAMED RAJABDEEN NOOR MOHAMED', 2512952017), (12162, 'SANATH NANDAKUMARA NANDASENAGE', 2512969516), (12164, 'MOHAMMED NASEEM SADIK', 2513783833), (12165, 'RAJITHA MANGALA MADDAWATHTHAGE', 2513783338), (12166, 'CHANDANA PUSHPA KUMARA UDUGAMPALAGE', 2513783072), (12167, 'MOHAMED NIROSAN MOHAMED NIYAS', 2513782546), (12168, 'CHANDIKA ROSHAN INDURUWAGE', 2513782389), (12169, 'JANAKA NISHANTHA BANDARA OVITIGAMA', 2513782058), (12170, 'PRIYANTHA BATUVITA PEDIGE', 2513541082), (12171, 'RIFATH MOHAMED MOHAMED JABEER', 2513540852), (12172, 'ANUSH JAYASHANTHA KANKANAMGE', 2513564415), (12173, 'ANURASIRI MULACHARI GEDARA', 2513781530), (12174, 'MOHAMED ANSEER M A WAHID', 2513540613), (12175, 'MOHAMMED RILWAN MOHAMMED MUNAS', 2513564266), (12176, 'MADAWA CHAMINDA ARACHCHIGE', 2513781324), (12177, 'PRADEEP WASANTHA LIYANAGE', 2513564076), (12178, 'NALAKA GUNENDRA APPUNETHTHI', 2513892691), (12179, 'ABDUL HAMEED SABURUDEEN', 2513563888), (12180, 'BUHARDEEN TUWAN MUHAJREEN', 2513780854), (12181, 'AMILA SAMPATH KULASEKARA', 2513780615), (12182, 'FAWZAR PAKKERTHAMBY MANSOOR', 2513539375), (12183, 'MOHAMED NAFAN MOHAMED NAWAS', 2513539060), (12184, 'MOHAMED LAFEER MOHAMED IQBAL', 2513538815), (12185, 'PRISHAN LAKMAL BALAPITIYA LIYANAGE', 2513780409), (12187, 'PRIYANTHA EKANAYAKA EKANAYAKA MUDIYANSELAGE', 2513563623), (12188, 'SHRLY THILAKARATHNA JAYALATH MUDIYANSELAGE', 2513535571), (12190, 'PUSHPARANGE MAHESH DON', 2513563136), (12191, 'PUBUDU THARANGE GARDIYAWASAM BALAGE', 2513775912), (12193, 'SANDUN PRADEEP WIJESIRI', 2515351282), (12194, 'NANDANA UDAYA KUMARA SAHABANDU', 2515351811), (12195, 'CHAMARA GOMAS WIJERATHNA JAYATHILAKALAGE', 2515351662), (12196, 'SAMEERA PRADEEP KUMARA NAWARATNA', 2515351480), (12197, 'SAMEERA KELUM FERNANDO WARNAKULASOORIYA', 2515351977), (12198, 'UPALI BANDARA ALAHAKOON MUDIYANSELAGE', 2515351365), (12199, 'ZIAD WARIS KHAN', 2515353601), (12200, 'MUHAMMAD IRFAN MUHAMMAD EHSAN', 2515352652), (12201, 'KASHIF SHAHZAD ETIFAQ HUSSAIN', 2515872931), (12202, 'KHURSHID ALAM SHAH ALAM', 2515352447), (12203, 'MUHAMMAD TARIQ KHAN ABDULHAMEED', 2515359236), (12204, 'ATTIQ AHMED KHAN KHUSHAL KHAN', 2515353247), (12205, 'TOUQEER NASIR BABU ALI', 2515358204), (12206, 'SAQUIB AZAM MUHAMMAD AZAM KHAN', 2515363923), (12207, 'ABDULWAHAB ABDULJABBAR', 2515356257), (12208, 'IFTIKHAR MUHAMMAD ZULFIQAR', 2515355895), (12209, 'SHARAFAT ALI MUBARIK ALI', 2515353023), (12211, 'IKRAM JALAL MUHAMMED RASHEED', 2515358956), (12212, 'MUHAMMAD NAEEM ABDULRAHIM', 2515353858), (12213, 'MUZAFAR KHAN AEEN KHAN', 2515353791), (12214, 'SALAR KHAN NISAR MUHAMMAD', 2515352736), (12215, 'KHARI ULLAH MADA SOOF', 2515353510), (12216, 'MUHAMMAD SAGHEER KHAN MANZOOR', 2515355556), (12217, 'ANAS BASHIR MUHAMMAD BASHIR', 2515358519), (12218, 'SAEED AKHTAR FAZAL UR RAHMAN KHAN', 2515382030), (12220, 'NASIR KHAN ABDULLATIF', 2515576292), (12221, 'MOAZZAM ALI GHULAM MUSTAFA', 2515357081), (12222, 'GHULAM MURTAZA KHAN FAZAL DAD KHAN', 2515355630), (12223, 'ARIF KHAN GUL AKBAR', 2515353668), (12224, 'SAEED SOHAIL MUHAMMAD RAMZAN', 2515352900), (12225, 'NADEEM ABBAS SHARAH KHAN', 2515356323), (12226, 'MUHAMMAD NAEEM MUHAMMAD BASHIR', 2515353106), (12228, 'ABID HUSSAIN ANJUM SAYED MUHAMMAD', 2515358717), (12230, 'ZESHAN BASHIR MUHAMMAD BASHIR', 2515355754), (12231, 'SHAKEEL AHMED KHAN MUHAMMAD', 2515356182), (12233, 'MUHAMMAD WASEEM MUHAMMAD ARIF', 2515578033), (12234, 'MUDASSIR AMIN JAN', 2515357768), (12235, 'MUHAMMAD BABAR SABIR MUHAMMAD', 2515356836), (12236, 'MUHAMMAD TAHIR KHAN MUHAMMAD', 2515353460), (12237, 'SHAHZAD HASSAN AHMED ALI', 2515363626), (12238, 'MUHAMMAD SAGHEER AMJAD BASHIR', 2515482830), (12239, 'SHAH JAHAN MUHAMMAD RAMZAN', 2515482202), (12240, 'ISRAR MUHAMMAD SHAH MUHAMMAD', 2515568067), (12242, 'NASR ULLAH KHAN PHOLA KHAN', 2515564785), (12243, 'WAHEED IQBAL ALI SHAN KHAN', 2515568307), (12244, 'ADEEL AKHTAR SATTI MUHAMMAD', 2515564652), (12245, 'SAMI SHAHZAD ABDULLAH JAN', 2515563712), (12246, 'QAMAR JAHANGIR JAHANGIR AKHTAR', 2515868855), (12247, 'KALA KHAN MUHAMMAD ASLAM KHAN', 2515483820), (12248, 'SYED ILYAS HUSSAIN SHAHA', 2515566434), (12249, 'ABDULBASIT YASIN MUHAMMAD YASIN', 2515566350), (12250, 'AFZAL KHAN ZAR FAROSH', 2515874127), (12251, 'ZULQARNAIN MUHAMMAD ZAREEN', 2515566970), (12252, 'MUHAMMAD AZEEN MUHAMMAD BOOTA', 2515565725), (12253, 'MUHAMMAD JAHANGIR IFTIKHAR AHMED', 2515567127), (12254, 'MUHAMMAD NASRULLAH KHAN AHMAD', 2515483457), (12255, 'RIZWAN ARIF MUHAMMAD ARIF KHAN', 2515873996), (12256, 'NASIR KHAN MUKHTIAR AHMAD', 2515567853), (12257, 'SAFDAR MAHMOOD MUHAMMAD RAFIQUE', 2515481642), (12258, 'MUHAMMAD SAQIB ZAFAR MEHMOOD', 2515565816), (12259, 'NOBAHAR GHULAM YOUSAR', 2515872667), (12260, 'SHAKIL ARSHAD JANAS KHAN', 2515567937), (12261, 'FARID KHAN MUHAMMAD GUL', 2515566590), (12262, 'MUBARIK ALI NOOR ALAM', 2515481535), (12263, 'MUHAMMAD YASIR LIAQAT HUSSAIN', 2515873590), (12264, 'MUHAMMAD SHABBIR MUHAMMAD HAROON', 2515566822), (12265, 'MUHAMMAD ASIF KHALIL AHMAD', 2515567259), (12266, 'ABID UR REHMAN ABDUR', 2515564033), (12267, 'JAMAL SHAH SAJAWAT SHAH', 2515566715), (12268, 'MUBASHER HUSSAIN ZAHID HUSSAIN', 2515567655), (12270, 'KHALID MEHMOOD ZAIDI SYED', 2515566038), (12271, 'SAID RASOOL MUHAMMAD KHAN', 2515484133), (12272, 'MUHAMMAD NADEEM LIAQAT ALI', 2515568422), (12274, 'ATIQ AHMED SHAFIQ AHMED', 2515873772), (12275, 'SYED ZAIWAR ALI SHAH TARMIZI', 2515867147), (12276, 'KHIALI GUL REHMAT GUL', 2515867832), (12277, 'FAHEEMULLAH UMAR HAYAT', 2515865455), (12278, 'ANAMULLAH AMRAN KHAN', 2515870885), (12279, 'SYED NAIK AMAL SHAH GHULAM', 2515868467), (12281, 'SYED WAHEED HUSSAIN WAHID HUSSAIN', 2515874317), (12282, 'YASIR GUL MUHAMMAD IQBAL', 2515869176), (12283, 'SAED TASAWAR HUSSAIN SHAH', 2515872261), (12284, 'FARHAD HUSSAIN GUL MAT SHAH', 2515568174), (12285, 'FAZAL HAQ SAHIB HAQ', 2515867386), (12287, 'CHAUDHRAY AAMIR AMIN CHAUDHRAY', 2515866438), (12288, 'MAJID KHAN MUHAMMAD KARAM KHAN', 2515866677), (12289, 'SHAHZAD KHAN ALI AKBAR', 2515870489), (12290, 'ASIF KHAN BAWAR KHAN', 2515872089), (12291, 'TAFHEEM HAIDER MUHAMMAD ASHRAF', 2515872469), (12294, 'ABDULREHMAN MUHAMMAD YAHYA', 2515873335), (12295, 'ANSAR ABBAS MUHAMMAD HUSSAIN', 2515868087), (12296, 'AFSAR ALI KIRAMAT SHAH', 2515870695), (12297, 'MUHAMMAD AMER KHAN KHURSHID KHAN', 2515868277), (12298, 'NASIR JAN BISMILLAH JAN', 2515869846), (12299, 'ALMAS AHMAD KHAN GHAYAS AHMAD', 2515871818), (12300, 'ADEEB GULRAIZ GEORGE NAZIR', 2515871438), (12301, 'SHAMSHAD ALI MURTAZA', 2515869606), (12302, 'MUHAMMAD ISMAIL KHAISTA GUL', 2515873152), (12303, 'MUHAMMAD SEEMAB KHAN MUHAMMAD', 2515867600), (12305, 'MUHAMMAD SHAKEEL ANJUM MUHAMMAD', 2515871040), (12306, 'INDIKA PRIYANKARA HEWAGE', 2520240843), (12307, 'MOHAMED BAJEEBUKEEN KAMALDEEN', 2516544752), (12308, 'MOHAMED ANWAR SAMSUDEEN', 2516544331), (12309, 'NAZAR TUAN PUTHRA', 2516544505), (12310, 'SIYAM SIYABDEEN', 2516544422), (12311, 'MOHAMMADU RALEEM MOHAMMADU JABRADEEN', 2516544810), (12313, 'RAVINDRA NAYANAKANTHA KUMBALATHARE ARACHCHIGE', 2516545221), (12316, 'SAMAN KUMARA MUDIYANSELAGE', 2516861495), (12317, 'MOHAMED FAREES MOHAMED SAHIREEN', 2516862014), (12318, 'RANGA RUKSHAN GAMMADDALAGE', 2517668279), (12320, 'CHAMILA DANUSHKA GEDARE', 2517673014), (12322, 'CHAMINDA KUMARA RALALAGE', 2517666364), (12323, 'MOHAMED RUSTHUN FOUS', 2517672750), (12324, 'SARATH JAYAWICKRAMA KANKANAMLAGE', 2517666232), (12325, 'BUDDIKA LAKSHAN HAPUACHCHIGE', 2517668386), (12326, 'NIHAL KUMARA GEDARA', 2517672883), (12327, 'RUWAN THARAHGA MUDIYANSELAGE', 2517674038), (12328, 'ASANKS PRADEEP GAMAGE', 2517668618), (12329, 'SAMAN KUMARA MUDALITUMANLAGE', 2517667198), (12330, 'SUSANTHA RANAMUKA ACHCHILLAGE', 2517668725), (12331, 'SAMPATH JAYANADA MUDIYANSELAGE', 2517674418), (12332, 'INDIKA SURESH GALGAMUGE', 2517672412), (12333, 'ANUSHKA DILSHAN GAMAGE', 2517674301), (12334, 'DHIWANKA RAJAKARUNA ILANGANRAMAGE', 2517668014), (12335, 'AYESH MANUSHANTHA ARACHCHIGE', 2517666711), (12336, 'URESH SHANAKA GODAGE', 2517668105), (12337, 'NOOR MOHAMED SAHABJAN', 2517673766), (12338, 'SURESH NISHANTHA MUDIYANSELAGE', 2517674178), (12541, 'MANJULA SAMARAKOON MUDIYANSELAGE', 2520951282), (12542, 'KAPILA INDRANEELA APPUHAMILAGE', 2520951118), (12837, 'MOHAMED ANAS MOHAMED MUNAS', 2533951279), (12840, 'HASHAN THILINAKA KUMARA PATABENDIGE', 2533683807), (12841, 'RUSHANTHA PADMA KUMARA ASURAPPULIGE', 2533951121), (12842, 'JEYCHANDRAN SRIPALA', 2533683724), (12843, 'BERNARD PRIYANKARA KALAHE LOKUGE', 2533685232), (12846, 'MOHAMMEDHU JAYIZ IBUKHAN', 2533685356), (12851, 'RAVINDRA NOYEL KAPUGE', 2534327503), (12852, 'HISBULLA ATHAMBAWA VELLATHAMBY', 2533684102), (12857, 'MAHAROOF MAZAHIM KAZALIHEEN', 2533686230), (12859, 'ASITHA INDUNIL GNANASENA UDAKUMBURAGE', 2533951196), (12862, 'MOHAMED IRFAN BUHARY', 2533951345), (12864, 'THILAKASIRI RAMANAYAKAGE JINAPALA', 2533685265), (12865, 'SOORIYA PRABASH SABAPATHY', 2533957045), (12868, 'RAVIKUMAR JAYARATHNAM', 2533951410), (12870, 'SARATH KUMARA THUSHAYA DEVA', 2533956625), (12871, 'SAMPATH PUBUDU DURAYALAGE', 2533685190), (12873, 'MOHAMED SIYAM SARIFU ISMAIL', 2533686289), (12876, 'MOHAMMAD RIFAS MOHAMMAD MOHIDEEN', 2533956666), (12877, 'CHAMINDA KUMARA MUDIYANSELAGE', 2533956989), (12878, 'MOHAMED ANFAZ MOHAMED FAIZ', 2533684953), (12880, 'KRISHANTHA THILAK MOHOTTALALAGE', 2533955734), (12881, 'CHANNA IROSHAN MUDIYANSELAGE', 2533684797), (12883, 'THILINA DILANTHA MUDALIGE', 2533684045), (12886, 'ARUNA SAJITH ARACHCHIGE', 2533956500), (12887, 'CHAMITH NISANSALA GAMMATHIRALALAG', 2533957102), (12890, 'GAYAN  INDRAJITH SAMARASINGHE VITHANAPATHIREN', 2533957326), (12892, 'MOHAMMED FASMIN ABDUL LATHEEF', 2533956443), (12893, 'HASHAN SEWWANDHIKA ACHARIGE', 2533957219), (12895, 'SHANTHA KUMARA GADARA', 2533957060), (12898, 'DHANANJAYA PEIRIS RANKADU PATTALAGE', 2533957359), (12899, 'MOHAMED IQRAM MOHAMED HANIFFA', 2533957227), (12900, 'MOHOMED  IRSHAD MOHOMED JAMEEL', 2533957011), (12902, 'NAVA VELAUTHAM VADIVEL', 2533957714), (12903, 'ANISDEEN JAILABDEEN SAMSUDEEN', 2533957441), (12904, 'NIMAL GUNARATHNA KURUGALA ARACHCHILAGE', 2533957409), (12905, 'SEKAR KANDIAH', 2533956682), (12907, 'PRIYANTHA BANDARA MUDIYANSELAGE', 2533957532), (12908, 'MOHAN RAJ KARUPPIAH ARUMUGAN', 2533956930), (12909, 'SHANTHAPRIYA SANJEEWA MALLIKAGE', 2533956690), (12911, 'NIROS MOHAMED IQBAL', 2533956740), (12912, 'SARATH KUMARA LAMA HEWAGE', 2533957342), (12914, 'SURANGA MADUSANKA KUMARA WITHARANAGE', 2533956831), (12915, 'MOHAMED ILLIYAS MOHAMED RAZAK', 2533957136), (12918, 'RAVEEN SHANAKA THALEWELA', 2533957383), (12920, 'MOHOMMADU NAFEES MOHOMMADU NILAM', 2533957185), (12922, 'FASLUL RAHUMAN MOHAMED FAUSAR', 2533956872), (12924, 'THUSHAN SAJEEWA MUDIYANSELAGE', 2533957334), (12925, 'SURANGA RUWAN LIYANAGE', 2533957268), (12927, 'MANJULA PRIYASHANTHA NUGALIYADDA GEDARA', 2533957680), (12929, 'CHANAKA PRADEEP KALUARACHCHIGE', 2533956898), (12931, 'SUHANTHAN SELVARASA', 2533956542), (12937, 'THUSITHA WIJESIRI ARACHCHILAGE', 2533957748), (12938, 'JAYAPADMA BORALA LIYANAGE', 2533957870), (12947, 'SISIRA SENARATHNE KANDEDURA ARACHCHILAGE', 2533957805), (12948, 'NIMAL JAYARATNE MAHAGAMA GEDARA', 2533957854), (12952, 'THUSHARA SANJEEWA MUNASINGHA DEWAGE', 2533957698), (12962, 'SHANTHA KALU KOTTEGE', 2533957821), (12974, 'SUBODA UDAYASIRI MULACHARILAGE GEDARA', 2533957755), (12975, 'RIFKAN MOHAMED', 2533957813), (12976, 'INDIKA PRADEEP GEDARA', 2533957896), (12986, 'SUMITH RUPASINGHE KODITHUWAKKU ARACHCHILAGE', 2533957482)]\n",
      "Connection closed\n"
     ]
    }
   ],
   "source": [
    "import pandas as pd\n",
    "import mysql.connector\n",
    "\n",
    "# Assuming 'df' is your DataFrame with data\n",
    "# For example, df = pd.DataFrame({'ptc_id': [12041, 12048, 12056, 12052, 12042],\n",
    "#                                'employee_name': ['RUKSHAN SUMITH W W ARACHCHILLAGE', 'SUYAMA PATHMAKUMARA K A MUDIYANSELAGE', 'TRIVON CRASLY', 'DUMITH RAVINDRA H H MUDIYANSELAGE', 'MOHAMED HISHAM MOHAMED HASSAN'],\n",
    "#                                'ID_number': [2511259174, 2511293777, 2511295103, 2511295442, 2511295913]})\n",
    "\n",
    "# MySQL database connection parameters\n",
    "mysql_username = 'root'\n",
    "mysql_password = 'hp3416431#'\n",
    "mysql_host = 'localhost'\n",
    "mysql_port = 3306\n",
    "mysql_database = 'mydb'\n",
    "\n",
    "# Create a connection string\n",
    "connection_string = f\"mysql+mysqlconnector://{mysql_username}:{mysql_password}@{mysql_host}:{mysql_port}/{mysql_database}\"\n",
    "\n",
    "# Establish a connection\n",
    "try:\n",
    "    connection = mysql.connector.connect(\n",
    "        user=mysql_username,\n",
    "        password=mysql_password,\n",
    "        host=mysql_host,\n",
    "        port=mysql_port,\n",
    "        database=mysql_database\n",
    "    )\n",
    "\n",
    "    if connection.is_connected():\n",
    "        print(\"Connected to MySQL database\")\n",
    "        cursor = connection.cursor()\n",
    "\n",
    "        query = f\"\"\"\n",
    "                SELECT * FROM website_employee;\n",
    "            \"\"\"\n",
    "        cursor.execute(query)\n",
    "        results = cursor.fetchall()\n",
    "        print(results)\n",
    "\n",
    "        connection.commit()\n",
    "\n",
    "except mysql.connector.Error as err:\n",
    "    print(f\"Error: {err}\")\n",
    "\n",
    "finally:\n",
    "    # Close the connection when done\n",
    "    if 'connection' in locals() and connection.is_connected():\n",
    "        connection.close()\n",
    "        print(\"Connection closed\")\n"
   ]
  },
  {
   "cell_type": "code",
   "execution_count": 65,
   "metadata": {},
   "outputs": [
    {
     "data": {
      "text/html": [
       "<div>\n",
       "<style scoped>\n",
       "    .dataframe tbody tr th:only-of-type {\n",
       "        vertical-align: middle;\n",
       "    }\n",
       "\n",
       "    .dataframe tbody tr th {\n",
       "        vertical-align: top;\n",
       "    }\n",
       "\n",
       "    .dataframe thead th {\n",
       "        text-align: right;\n",
       "    }\n",
       "</style>\n",
       "<table border=\"1\" class=\"dataframe\">\n",
       "  <thead>\n",
       "    <tr style=\"text-align: right;\">\n",
       "      <th></th>\n",
       "      <th>ptc_id</th>\n",
       "      <th>employee_name</th>\n",
       "      <th>ID_number</th>\n",
       "    </tr>\n",
       "  </thead>\n",
       "  <tbody>\n",
       "    <tr>\n",
       "      <th>178</th>\n",
       "      <td>10088</td>\n",
       "      <td>MUHAMMAD TOSIF ANJAM MUHAMMAD SADDEEQ</td>\n",
       "      <td>2466498579</td>\n",
       "    </tr>\n",
       "  </tbody>\n",
       "</table>\n",
       "</div>"
      ],
      "text/plain": [
       "     ptc_id                          employee_name   ID_number\n",
       "178   10088  MUHAMMAD TOSIF ANJAM MUHAMMAD SADDEEQ  2466498579"
      ]
     },
     "execution_count": 65,
     "metadata": {},
     "output_type": "execute_result"
    }
   ],
   "source": [
    "df[df['ptc_id']==10088]"
   ]
  },
  {
   "cell_type": "code",
   "execution_count": 1,
   "metadata": {},
   "outputs": [],
   "source": [
    "## reading violation data"
   ]
  },
  {
   "cell_type": "code",
   "execution_count": 3,
   "metadata": {},
   "outputs": [],
   "source": [
    "import pandas as pd "
   ]
  },
  {
   "cell_type": "code",
   "execution_count": 7,
   "metadata": {},
   "outputs": [],
   "source": [
    "v_df = pd.read_excel(r\"project_data\\Violation form manually.xlsx\")"
   ]
  },
  {
   "cell_type": "code",
   "execution_count": 8,
   "metadata": {},
   "outputs": [
    {
     "data": {
      "text/html": [
       "<div>\n",
       "<style scoped>\n",
       "    .dataframe tbody tr th:only-of-type {\n",
       "        vertical-align: middle;\n",
       "    }\n",
       "\n",
       "    .dataframe tbody tr th {\n",
       "        vertical-align: top;\n",
       "    }\n",
       "\n",
       "    .dataframe thead th {\n",
       "        text-align: right;\n",
       "    }\n",
       "</style>\n",
       "<table border=\"1\" class=\"dataframe\">\n",
       "  <thead>\n",
       "    <tr style=\"text-align: right;\">\n",
       "      <th></th>\n",
       "      <th>رقم المخالفة</th>\n",
       "      <th>وصف حالة المخالفة</th>\n",
       "      <th>وصف حالة المخالفة.1</th>\n",
       "      <th>رقم هوية المخالف</th>\n",
       "      <th>الرقم التسلسلي</th>\n",
       "      <th>لوحة المركبة</th>\n",
       "      <th>نوع تسجيل اللوحة</th>\n",
       "      <th>المبلغ الاجمالي للمخالفة</th>\n",
       "      <th>مدينة وقوع المخالفة</th>\n",
       "      <th>مكان وقوع المخالفة</th>\n",
       "      <th>تاريخ المخالفة بالهجري</th>\n",
       "      <th>تاريخ دفع المخالفة بالهجري</th>\n",
       "      <th>تاريخ دفع المخالفة بالميلادي</th>\n",
       "      <th>وقت المخالفة</th>\n",
       "      <th>مبلغ المخالفة</th>\n",
       "      <th>تفاصيل المخالفة بالعربي</th>\n",
       "      <th>تفاصيل المخالفة بالانجليزي</th>\n",
       "    </tr>\n",
       "  </thead>\n",
       "  <tbody>\n",
       "    <tr>\n",
       "      <th>0</th>\n",
       "      <td>6403617633</td>\n",
       "      <td>غير مسددة</td>\n",
       "      <td>UNPAID VIOLATION</td>\n",
       "      <td>7009243952</td>\n",
       "      <td>970433710</td>\n",
       "      <td>أ ر س 5357</td>\n",
       "      <td>نقل خاص</td>\n",
       "      <td>150</td>\n",
       "      <td>الرياض</td>\n",
       "      <td>جوال 555527863-Traffic</td>\n",
       "      <td>1445-06-06</td>\n",
       "      <td>NaN</td>\n",
       "      <td>NaN</td>\n",
       "      <td>17:06</td>\n",
       "      <td>150</td>\n",
       "      <td>تجاوز السرعة المحددة بأكثر من 10 الى 20 كم/س -...</td>\n",
       "      <td>تجاوز السرعة المحددة بأكثر من 10 الى 20 كم/س -...</td>\n",
       "    </tr>\n",
       "  </tbody>\n",
       "</table>\n",
       "</div>"
      ],
      "text/plain": [
       "   رقم المخالفة وصف حالة المخالفة وصف حالة المخالفة.1  رقم هوية المخالف  \\\n",
       "0    6403617633         غير مسددة    UNPAID VIOLATION        7009243952   \n",
       "\n",
       "   الرقم التسلسلي لوحة المركبة نوع تسجيل اللوحة  المبلغ الاجمالي للمخالفة  \\\n",
       "0       970433710   أ ر س 5357          نقل خاص                       150   \n",
       "\n",
       "  مدينة وقوع المخالفة      مكان وقوع المخالفة تاريخ المخالفة بالهجري  \\\n",
       "0              الرياض  جوال 555527863-Traffic             1445-06-06   \n",
       "\n",
       "   تاريخ دفع المخالفة بالهجري  تاريخ دفع المخالفة بالميلادي وقت المخالفة  \\\n",
       "0                         NaN                           NaN        17:06   \n",
       "\n",
       "   مبلغ المخالفة                            تفاصيل المخالفة بالعربي  \\\n",
       "0            150  تجاوز السرعة المحددة بأكثر من 10 الى 20 كم/س -...   \n",
       "\n",
       "                          تفاصيل المخالفة بالانجليزي  \n",
       "0  تجاوز السرعة المحددة بأكثر من 10 الى 20 كم/س -...  "
      ]
     },
     "execution_count": 8,
     "metadata": {},
     "output_type": "execute_result"
    }
   ],
   "source": [
    "v_df.head()"
   ]
  },
  {
   "cell_type": "code",
   "execution_count": 10,
   "metadata": {},
   "outputs": [
    {
     "data": {
      "text/plain": [
       "Index(['رقم المخالفة', 'وصف حالة المخالفة', 'وصف حالة المخالفة.1',\n",
       "       'رقم هوية المخالف', 'الرقم التسلسلي', 'لوحة المركبة',\n",
       "       'نوع تسجيل اللوحة', 'المبلغ الاجمالي للمخالفة', 'مدينة وقوع المخالفة',\n",
       "       'مكان وقوع المخالفة', 'تاريخ المخالفة بالهجري',\n",
       "       'تاريخ دفع المخالفة بالهجري', 'تاريخ دفع المخالفة بالميلادي',\n",
       "       'وقت المخالفة', 'مبلغ المخالفة', 'تفاصيل المخالفة بالعربي',\n",
       "       'تفاصيل المخالفة بالانجليزي'],\n",
       "      dtype='object')"
      ]
     },
     "execution_count": 10,
     "metadata": {},
     "output_type": "execute_result"
    }
   ],
   "source": [
    "v_df.columns"
   ]
  },
  {
   "cell_type": "code",
   "execution_count": null,
   "metadata": {},
   "outputs": [],
   "source": [
    "class Violation(models.Model):\n",
    "    violation_id = models.CharField(max_length=255, primary_key=True)\n",
    "    violation_date = models.DateField()\n",
    "    time = models.TimeField()\n",
    "    bus_panel = models.CharField(max_length=255)\n",
    "    Amount = models.DecimalField(max_digits=8, decimal_places=2)\n",
    "    Violation_type = models.TextField()\n",
    "    violation_type_arabic = models.TextField()\n",
    "    employee = models.ForeignKey(Employee, on_delete=models.CASCADE,null=True,blank=True)\n",
    "    pdf = models.ForeignKey(PDF, on_delete=models.CASCADE,null=True,blank=True)\n"
   ]
  }
 ],
 "metadata": {
  "kernelspec": {
   "display_name": "myenv",
   "language": "python",
   "name": "python3"
  },
  "language_info": {
   "codemirror_mode": {
    "name": "ipython",
    "version": 3
   },
   "file_extension": ".py",
   "mimetype": "text/x-python",
   "name": "python",
   "nbconvert_exporter": "python",
   "pygments_lexer": "ipython3",
   "version": "3.11.4"
  }
 },
 "nbformat": 4,
 "nbformat_minor": 2
}
