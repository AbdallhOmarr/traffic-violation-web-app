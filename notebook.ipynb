{
 "cells": [
  {
   "cell_type": "code",
   "execution_count": 46,
   "metadata": {},
   "outputs": [],
   "source": [
    "#this notebook to upload excels to database"
   ]
  },
  {
   "cell_type": "code",
   "execution_count": 2,
   "metadata": {},
   "outputs": [],
   "source": [
    "import pandas as pd "
   ]
  },
  {
   "cell_type": "code",
   "execution_count": 3,
   "metadata": {},
   "outputs": [],
   "source": [
    "import sqlite3 "
   ]
  },
  {
   "cell_type": "code",
   "execution_count": 68,
   "metadata": {},
   "outputs": [],
   "source": [
    "conn  = sqlite3.connect(\"db.sqlite3\")"
   ]
  },
  {
   "cell_type": "code",
   "execution_count": 69,
   "metadata": {},
   "outputs": [],
   "source": [
    "# uploading employee data"
   ]
  },
  {
   "cell_type": "code",
   "execution_count": 4,
   "metadata": {},
   "outputs": [],
   "source": [
    "df = pd.read_excel(r\"C:\\Users\\Abdallah.ashry\\Downloads\\Strcuctre sheet.xlsx\")"
   ]
  },
  {
   "cell_type": "code",
   "execution_count": 5,
   "metadata": {},
   "outputs": [],
   "source": [
    "df.rename(\n",
    "    columns={\n",
    "        \"PTC ID\":\"ptc_id\",\n",
    "        \"NAME\":\"employee_name\",\n",
    "        \"ID NUMBER\":\"ID_number\"\n",
    "    },inplace=True\n",
    ")"
   ]
  },
  {
   "cell_type": "code",
   "execution_count": 6,
   "metadata": {},
   "outputs": [
    {
     "ename": "NameError",
     "evalue": "name 'conn' is not defined",
     "output_type": "error",
     "traceback": [
      "\u001b[1;31m---------------------------------------------------------------------------\u001b[0m",
      "\u001b[1;31mNameError\u001b[0m                                 Traceback (most recent call last)",
      "Cell \u001b[1;32mIn[6], line 1\u001b[0m\n\u001b[1;32m----> 1\u001b[0m df\u001b[38;5;241m.\u001b[39mto_sql(\u001b[38;5;124m'\u001b[39m\u001b[38;5;124mwebsite_employee\u001b[39m\u001b[38;5;124m'\u001b[39m, \u001b[43mconn\u001b[49m, index\u001b[38;5;241m=\u001b[39m\u001b[38;5;28;01mFalse\u001b[39;00m, if_exists\u001b[38;5;241m=\u001b[39m\u001b[38;5;124m'\u001b[39m\u001b[38;5;124mreplace\u001b[39m\u001b[38;5;124m'\u001b[39m)\n",
      "\u001b[1;31mNameError\u001b[0m: name 'conn' is not defined"
     ]
    }
   ],
   "source": [
    "df.to_sql('website_employee', conn, index=False, if_exists='replace')\n"
   ]
  },
  {
   "cell_type": "code",
   "execution_count": 73,
   "metadata": {},
   "outputs": [],
   "source": [
    "conn.close()"
   ]
  },
  {
   "cell_type": "code",
   "execution_count": 6,
   "metadata": {},
   "outputs": [
    {
     "data": {
      "text/html": [
       "<div>\n",
       "<style scoped>\n",
       "    .dataframe tbody tr th:only-of-type {\n",
       "        vertical-align: middle;\n",
       "    }\n",
       "\n",
       "    .dataframe tbody tr th {\n",
       "        vertical-align: top;\n",
       "    }\n",
       "\n",
       "    .dataframe thead th {\n",
       "        text-align: right;\n",
       "    }\n",
       "</style>\n",
       "<table border=\"1\" class=\"dataframe\">\n",
       "  <thead>\n",
       "    <tr style=\"text-align: right;\">\n",
       "      <th></th>\n",
       "      <th>ptc_id</th>\n",
       "      <th>employee_name</th>\n",
       "      <th>ID_number</th>\n",
       "    </tr>\n",
       "  </thead>\n",
       "  <tbody>\n",
       "    <tr>\n",
       "      <th>0</th>\n",
       "      <td>12041</td>\n",
       "      <td>RUKSHAN SUMITH W W ARACHCHILLAGE</td>\n",
       "      <td>2511259174</td>\n",
       "    </tr>\n",
       "    <tr>\n",
       "      <th>1</th>\n",
       "      <td>12048</td>\n",
       "      <td>SUYAMA PATHMAKUMARA K A MUDIYANSELAGE</td>\n",
       "      <td>2511293777</td>\n",
       "    </tr>\n",
       "    <tr>\n",
       "      <th>2</th>\n",
       "      <td>12056</td>\n",
       "      <td>TRIVON CRASLY</td>\n",
       "      <td>2511295103</td>\n",
       "    </tr>\n",
       "    <tr>\n",
       "      <th>3</th>\n",
       "      <td>12052</td>\n",
       "      <td>DUMITH RAVINDRA H H MUDIYANSELAGE</td>\n",
       "      <td>2511295442</td>\n",
       "    </tr>\n",
       "    <tr>\n",
       "      <th>4</th>\n",
       "      <td>12042</td>\n",
       "      <td>MOHAMED HISHAM MOHAMED HASSAN</td>\n",
       "      <td>2511295913</td>\n",
       "    </tr>\n",
       "  </tbody>\n",
       "</table>\n",
       "</div>"
      ],
      "text/plain": [
       "   ptc_id                          employee_name   ID_number\n",
       "0   12041       RUKSHAN SUMITH W W ARACHCHILLAGE  2511259174\n",
       "1   12048  SUYAMA PATHMAKUMARA K A MUDIYANSELAGE  2511293777\n",
       "2   12056                          TRIVON CRASLY  2511295103\n",
       "3   12052      DUMITH RAVINDRA H H MUDIYANSELAGE  2511295442\n",
       "4   12042          MOHAMED HISHAM MOHAMED HASSAN  2511295913"
      ]
     },
     "execution_count": 6,
     "metadata": {},
     "output_type": "execute_result"
    }
   ],
   "source": [
    "df.head()"
   ]
  },
  {
   "cell_type": "code",
   "execution_count": 7,
   "metadata": {},
   "outputs": [
    {
     "name": "stdout",
     "output_type": "stream",
     "text": [
      "Connected to MySQL database\n",
      "Connection closed\n"
     ]
    }
   ],
   "source": [
    "import pandas as pd\n",
    "import mysql.connector\n",
    "\n",
    "# Assuming 'df' is your DataFrame with data\n",
    "# For example, df = pd.DataFrame({'ptc_id': [12041, 12048, 12056, 12052, 12042],\n",
    "#                                'employee_name': ['RUKSHAN SUMITH W W ARACHCHILLAGE', 'SUYAMA PATHMAKUMARA K A MUDIYANSELAGE', 'TRIVON CRASLY', 'DUMITH RAVINDRA H H MUDIYANSELAGE', 'MOHAMED HISHAM MOHAMED HASSAN'],\n",
    "#                                'ID_number': [2511259174, 2511293777, 2511295103, 2511295442, 2511295913]})\n",
    "\n",
    "# MySQL database connection parameters\n",
    "mysql_username = 'root'\n",
    "mysql_password = 'hp3416431#'\n",
    "mysql_host = 'localhost'\n",
    "mysql_port = 8051\n",
    "mysql_database = 'mydb'\n",
    "\n",
    "# Create a connection string\n",
    "connection_string = f\"mysql+mysqlconnector://{mysql_username}:{mysql_password}@{mysql_host}:{mysql_port}/{mysql_database}\"\n",
    "\n",
    "# Establish a connection\n",
    "try:\n",
    "    connection = mysql.connector.connect(\n",
    "        user=mysql_username,\n",
    "        password=mysql_password,\n",
    "        host=mysql_host,\n",
    "        port=mysql_port,\n",
    "        database=mysql_database\n",
    "    )\n",
    "\n",
    "    if connection.is_connected():\n",
    "        print(\"Connected to MySQL database\")\n",
    "        cursor = connection.cursor()\n",
    "\n",
    "        for i, row in df.iterrows():\n",
    "            query = f\"\"\"\n",
    "                INSERT INTO website_employee (ptc_id, employee_name, ID_number)\n",
    "                VALUES ({row['ptc_id']}, '{row['employee_name']}', {row['ID_number']});\n",
    "            \"\"\"\n",
    "            cursor.execute(query)\n",
    "\n",
    "        connection.commit()\n",
    "\n",
    "except mysql.connector.Error as err:\n",
    "    print(f\"Error: {err}\")\n",
    "\n",
    "finally:\n",
    "    # Close the connection when done\n",
    "    if 'connection' in locals() and connection.is_connected():\n",
    "        connection.close()\n",
    "        print(\"Connection closed\")\n"
   ]
  },
  {
   "cell_type": "code",
   "execution_count": 2,
   "metadata": {},
   "outputs": [
    {
     "name": "stdout",
     "output_type": "stream",
     "text": [
      "Connected to MySQL database\n",
      "[]\n",
      "Connection closed\n"
     ]
    }
   ],
   "source": [
    "import pandas as pd\n",
    "import mysql.connector\n",
    "\n",
    "# Assuming 'df' is your DataFrame with data\n",
    "# For example, df = pd.DataFrame({'ptc_id': [12041, 12048, 12056, 12052, 12042],\n",
    "#                                'employee_name': ['RUKSHAN SUMITH W W ARACHCHILLAGE', 'SUYAMA PATHMAKUMARA K A MUDIYANSELAGE', 'TRIVON CRASLY', 'DUMITH RAVINDRA H H MUDIYANSELAGE', 'MOHAMED HISHAM MOHAMED HASSAN'],\n",
    "#                                'ID_number': [2511259174, 2511293777, 2511295103, 2511295442, 2511295913]})\n",
    "\n",
    "# MySQL database connection parameters\n",
    "mysql_username = 'root'\n",
    "mysql_password = 'hp3416431#'\n",
    "mysql_host = 'localhost'\n",
    "mysql_port = 8051\n",
    "mysql_database = 'mydb'\n",
    "\n",
    "# Create a connection string\n",
    "connection_string = f\"mysql+mysqlconnector://{mysql_username}:{mysql_password}@{mysql_host}:{mysql_port}/{mysql_database}\"\n",
    "\n",
    "# Establish a connection\n",
    "try:\n",
    "    connection = mysql.connector.connect(\n",
    "        user=mysql_username,\n",
    "        password=mysql_password,\n",
    "        host=mysql_host,\n",
    "        port=mysql_port,\n",
    "        database=mysql_database\n",
    "    )\n",
    "\n",
    "    if connection.is_connected():\n",
    "        print(\"Connected to MySQL database\")\n",
    "        cursor = connection.cursor()\n",
    "\n",
    "        table_name = \"website_violation\"\n",
    "\n",
    "        # Create and execute the DELETE query\n",
    "        delete_query = f\"DELETE FROM {table_name}\"\n",
    "        cursor.execute(delete_query)\n",
    "\n",
    "        results = cursor.fetchall()\n",
    "        print(results)\n",
    "\n",
    "        connection.commit()\n",
    "\n",
    "except mysql.connector.Error as err:\n",
    "    print(f\"Error: {err}\")\n",
    "\n",
    "finally:\n",
    "    # Close the connection when done\n",
    "    if 'connection' in locals() and connection.is_connected():\n",
    "        connection.close()\n",
    "        print(\"Connection closed\")\n"
   ]
  },
  {
   "cell_type": "code",
   "execution_count": 65,
   "metadata": {},
   "outputs": [
    {
     "data": {
      "text/html": [
       "<div>\n",
       "<style scoped>\n",
       "    .dataframe tbody tr th:only-of-type {\n",
       "        vertical-align: middle;\n",
       "    }\n",
       "\n",
       "    .dataframe tbody tr th {\n",
       "        vertical-align: top;\n",
       "    }\n",
       "\n",
       "    .dataframe thead th {\n",
       "        text-align: right;\n",
       "    }\n",
       "</style>\n",
       "<table border=\"1\" class=\"dataframe\">\n",
       "  <thead>\n",
       "    <tr style=\"text-align: right;\">\n",
       "      <th></th>\n",
       "      <th>ptc_id</th>\n",
       "      <th>employee_name</th>\n",
       "      <th>ID_number</th>\n",
       "    </tr>\n",
       "  </thead>\n",
       "  <tbody>\n",
       "    <tr>\n",
       "      <th>178</th>\n",
       "      <td>10088</td>\n",
       "      <td>MUHAMMAD TOSIF ANJAM MUHAMMAD SADDEEQ</td>\n",
       "      <td>2466498579</td>\n",
       "    </tr>\n",
       "  </tbody>\n",
       "</table>\n",
       "</div>"
      ],
      "text/plain": [
       "     ptc_id                          employee_name   ID_number\n",
       "178   10088  MUHAMMAD TOSIF ANJAM MUHAMMAD SADDEEQ  2466498579"
      ]
     },
     "execution_count": 65,
     "metadata": {},
     "output_type": "execute_result"
    }
   ],
   "source": [
    "df[df['ptc_id']==10088]"
   ]
  },
  {
   "cell_type": "code",
   "execution_count": 1,
   "metadata": {},
   "outputs": [],
   "source": [
    "## reading violation data"
   ]
  },
  {
   "cell_type": "code",
   "execution_count": 3,
   "metadata": {},
   "outputs": [],
   "source": [
    "import pandas as pd "
   ]
  },
  {
   "cell_type": "code",
   "execution_count": 7,
   "metadata": {},
   "outputs": [],
   "source": [
    "v_df = pd.read_excel(r\"project_data\\Violation form manually.xlsx\")"
   ]
  },
  {
   "cell_type": "code",
   "execution_count": 8,
   "metadata": {},
   "outputs": [
    {
     "data": {
      "text/html": [
       "<div>\n",
       "<style scoped>\n",
       "    .dataframe tbody tr th:only-of-type {\n",
       "        vertical-align: middle;\n",
       "    }\n",
       "\n",
       "    .dataframe tbody tr th {\n",
       "        vertical-align: top;\n",
       "    }\n",
       "\n",
       "    .dataframe thead th {\n",
       "        text-align: right;\n",
       "    }\n",
       "</style>\n",
       "<table border=\"1\" class=\"dataframe\">\n",
       "  <thead>\n",
       "    <tr style=\"text-align: right;\">\n",
       "      <th></th>\n",
       "      <th>رقم المخالفة</th>\n",
       "      <th>وصف حالة المخالفة</th>\n",
       "      <th>وصف حالة المخالفة.1</th>\n",
       "      <th>رقم هوية المخالف</th>\n",
       "      <th>الرقم التسلسلي</th>\n",
       "      <th>لوحة المركبة</th>\n",
       "      <th>نوع تسجيل اللوحة</th>\n",
       "      <th>المبلغ الاجمالي للمخالفة</th>\n",
       "      <th>مدينة وقوع المخالفة</th>\n",
       "      <th>مكان وقوع المخالفة</th>\n",
       "      <th>تاريخ المخالفة بالهجري</th>\n",
       "      <th>تاريخ دفع المخالفة بالهجري</th>\n",
       "      <th>تاريخ دفع المخالفة بالميلادي</th>\n",
       "      <th>وقت المخالفة</th>\n",
       "      <th>مبلغ المخالفة</th>\n",
       "      <th>تفاصيل المخالفة بالعربي</th>\n",
       "      <th>تفاصيل المخالفة بالانجليزي</th>\n",
       "    </tr>\n",
       "  </thead>\n",
       "  <tbody>\n",
       "    <tr>\n",
       "      <th>0</th>\n",
       "      <td>6403617633</td>\n",
       "      <td>غير مسددة</td>\n",
       "      <td>UNPAID VIOLATION</td>\n",
       "      <td>7009243952</td>\n",
       "      <td>970433710</td>\n",
       "      <td>أ ر س 5357</td>\n",
       "      <td>نقل خاص</td>\n",
       "      <td>150</td>\n",
       "      <td>الرياض</td>\n",
       "      <td>جوال 555527863-Traffic</td>\n",
       "      <td>1445-06-06</td>\n",
       "      <td>NaN</td>\n",
       "      <td>NaN</td>\n",
       "      <td>17:06</td>\n",
       "      <td>150</td>\n",
       "      <td>تجاوز السرعة المحددة بأكثر من 10 الى 20 كم/س -...</td>\n",
       "      <td>تجاوز السرعة المحددة بأكثر من 10 الى 20 كم/س -...</td>\n",
       "    </tr>\n",
       "  </tbody>\n",
       "</table>\n",
       "</div>"
      ],
      "text/plain": [
       "   رقم المخالفة وصف حالة المخالفة وصف حالة المخالفة.1  رقم هوية المخالف  \\\n",
       "0    6403617633         غير مسددة    UNPAID VIOLATION        7009243952   \n",
       "\n",
       "   الرقم التسلسلي لوحة المركبة نوع تسجيل اللوحة  المبلغ الاجمالي للمخالفة  \\\n",
       "0       970433710   أ ر س 5357          نقل خاص                       150   \n",
       "\n",
       "  مدينة وقوع المخالفة      مكان وقوع المخالفة تاريخ المخالفة بالهجري  \\\n",
       "0              الرياض  جوال 555527863-Traffic             1445-06-06   \n",
       "\n",
       "   تاريخ دفع المخالفة بالهجري  تاريخ دفع المخالفة بالميلادي وقت المخالفة  \\\n",
       "0                         NaN                           NaN        17:06   \n",
       "\n",
       "   مبلغ المخالفة                            تفاصيل المخالفة بالعربي  \\\n",
       "0            150  تجاوز السرعة المحددة بأكثر من 10 الى 20 كم/س -...   \n",
       "\n",
       "                          تفاصيل المخالفة بالانجليزي  \n",
       "0  تجاوز السرعة المحددة بأكثر من 10 الى 20 كم/س -...  "
      ]
     },
     "execution_count": 8,
     "metadata": {},
     "output_type": "execute_result"
    }
   ],
   "source": [
    "v_df.head()"
   ]
  },
  {
   "cell_type": "code",
   "execution_count": 10,
   "metadata": {},
   "outputs": [
    {
     "data": {
      "text/plain": [
       "Index(['رقم المخالفة', 'وصف حالة المخالفة', 'وصف حالة المخالفة.1',\n",
       "       'رقم هوية المخالف', 'الرقم التسلسلي', 'لوحة المركبة',\n",
       "       'نوع تسجيل اللوحة', 'المبلغ الاجمالي للمخالفة', 'مدينة وقوع المخالفة',\n",
       "       'مكان وقوع المخالفة', 'تاريخ المخالفة بالهجري',\n",
       "       'تاريخ دفع المخالفة بالهجري', 'تاريخ دفع المخالفة بالميلادي',\n",
       "       'وقت المخالفة', 'مبلغ المخالفة', 'تفاصيل المخالفة بالعربي',\n",
       "       'تفاصيل المخالفة بالانجليزي'],\n",
       "      dtype='object')"
      ]
     },
     "execution_count": 10,
     "metadata": {},
     "output_type": "execute_result"
    }
   ],
   "source": [
    "v_df.columns"
   ]
  },
  {
   "cell_type": "code",
   "execution_count": null,
   "metadata": {},
   "outputs": [],
   "source": [
    "class Violation(models.Model):\n",
    "    violation_id = models.CharField(max_length=255, primary_key=True)\n",
    "    violation_date = models.DateField()\n",
    "    time = models.TimeField()\n",
    "    bus_panel = models.CharField(max_length=255)\n",
    "    Amount = models.DecimalField(max_digits=8, decimal_places=2)\n",
    "    Violation_type = models.TextField()\n",
    "    violation_type_arabic = models.TextField()\n",
    "    employee = models.ForeignKey(Employee, on_delete=models.CASCADE,null=True,blank=True)\n",
    "    pdf = models.ForeignKey(PDF, on_delete=models.CASCADE,null=True,blank=True)\n"
   ]
  },
  {
   "cell_type": "code",
   "execution_count": null,
   "metadata": {},
   "outputs": [],
   "source": []
  },
  {
   "cell_type": "code",
   "execution_count": 9,
   "metadata": {},
   "outputs": [
    {
     "data": {
      "text/html": [
       "<div>\n",
       "<style scoped>\n",
       "    .dataframe tbody tr th:only-of-type {\n",
       "        vertical-align: middle;\n",
       "    }\n",
       "\n",
       "    .dataframe tbody tr th {\n",
       "        vertical-align: top;\n",
       "    }\n",
       "\n",
       "    .dataframe thead th {\n",
       "        text-align: right;\n",
       "    }\n",
       "</style>\n",
       "<table border=\"1\" class=\"dataframe\">\n",
       "  <thead>\n",
       "    <tr style=\"text-align: right;\">\n",
       "      <th></th>\n",
       "      <th>SR</th>\n",
       "      <th>plate_eng</th>\n",
       "      <th>plate_ar</th>\n",
       "      <th>fleet_no</th>\n",
       "      <th>vehicle_user</th>\n",
       "    </tr>\n",
       "  </thead>\n",
       "  <tbody>\n",
       "    <tr>\n",
       "      <th>0</th>\n",
       "      <td>1</td>\n",
       "      <td>8541GDB</td>\n",
       "      <td>أ س م 4644</td>\n",
       "      <td>21001</td>\n",
       "      <td>East Depot</td>\n",
       "    </tr>\n",
       "    <tr>\n",
       "      <th>1</th>\n",
       "      <td>2</td>\n",
       "      <td>3499DRA</td>\n",
       "      <td>أ ر د 3499</td>\n",
       "      <td>21002</td>\n",
       "      <td>West Depot</td>\n",
       "    </tr>\n",
       "    <tr>\n",
       "      <th>2</th>\n",
       "      <td>3</td>\n",
       "      <td>3479DRA</td>\n",
       "      <td>أ ر د 3479</td>\n",
       "      <td>21003</td>\n",
       "      <td>West Depot</td>\n",
       "    </tr>\n",
       "    <tr>\n",
       "      <th>3</th>\n",
       "      <td>4</td>\n",
       "      <td>3475DRA</td>\n",
       "      <td>أ ر د 3475</td>\n",
       "      <td>21004</td>\n",
       "      <td>East Depot</td>\n",
       "    </tr>\n",
       "    <tr>\n",
       "      <th>4</th>\n",
       "      <td>5</td>\n",
       "      <td>6877BRA</td>\n",
       "      <td>أ ر ب 6877</td>\n",
       "      <td>21005</td>\n",
       "      <td>West Depot</td>\n",
       "    </tr>\n",
       "  </tbody>\n",
       "</table>\n",
       "</div>"
      ],
      "text/plain": [
       "   SR plate_eng    plate_ar  fleet_no vehicle_user\n",
       "0   1   8541GDB  أ س م 4644     21001   East Depot\n",
       "1   2   3499DRA  أ ر د 3499     21002   West Depot\n",
       "2   3   3479DRA  أ ر د 3479     21003   West Depot\n",
       "3   4   3475DRA  أ ر د 3475     21004   East Depot\n",
       "4   5   6877BRA  أ ر ب 6877     21005   West Depot"
      ]
     },
     "execution_count": 9,
     "metadata": {},
     "output_type": "execute_result"
    }
   ],
   "source": [
    "import pandas as pd\n",
    "import mysql.connector\n",
    "df = pd.read_excel(\"vehicle_data.xlsx\")\n",
    "df.head()"
   ]
  },
  {
   "cell_type": "code",
   "execution_count": 17,
   "metadata": {},
   "outputs": [
    {
     "name": "stdout",
     "output_type": "stream",
     "text": [
      "Connected to MySQL database\n",
      "Error: 1062 (23000): Duplicate entry '8541GDB' for key 'website_vehicle.PRIMARY'\n",
      "Connection closed\n"
     ]
    }
   ],
   "source": [
    "import pandas as pd\n",
    "import mysql.connector\n",
    "df = pd.read_excel(\"vehicle_data.xlsx\")\n",
    "\n",
    "# MySQL database connection parameters\n",
    "mysql_username = 'root'\n",
    "mysql_password = 'hp3416431#'\n",
    "mysql_host = 'localhost'\n",
    "mysql_port = 8051\n",
    "mysql_database = 'mydb'\n",
    "\n",
    "# Create a connection string\n",
    "connection_string = f\"mysql+mysqlconnector://{mysql_username}:{mysql_password}@{mysql_host}:{mysql_port}/{mysql_database}\"\n",
    "\n",
    "# Establish a connection\n",
    "try:\n",
    "    connection = mysql.connector.connect(\n",
    "        user=mysql_username,\n",
    "        password=mysql_password,\n",
    "        host=mysql_host,\n",
    "        port=mysql_port,\n",
    "        database=mysql_database\n",
    "    )\n",
    "\n",
    "    if connection.is_connected():\n",
    "        print(\"Connected to MySQL database\")\n",
    "        cursor = connection.cursor()\n",
    "\n",
    "        table_name = \"website_vehicle\"\n",
    "\n",
    "        for i, row in df.iterrows():\n",
    "            query = f\"\"\"\n",
    "                INSERT INTO website_vehicle (fleet_no, vehicle_user, plate_eng, plate_ar, vehicle_type)\n",
    "                VALUES ('{row['fleet_no']}', '{row['vehicle_user']}', '{row['plate_eng']}', '{row['plate_ar']}', 'Bus');\n",
    "            \"\"\"\n",
    "            cursor.execute(query)\n",
    "\n",
    "        connection.commit()\n",
    "\n",
    "\n",
    "\n",
    "except mysql.connector.Error as err:\n",
    "    print(f\"Error: {err}\")\n",
    "\n",
    "finally:\n",
    "    # Close the connection when done\n",
    "    if 'connection' in locals() and connection.is_connected():\n",
    "        connection.close()\n",
    "        print(\"Connection closed\")\n"
   ]
  },
  {
   "cell_type": "code",
   "execution_count": 25,
   "metadata": {},
   "outputs": [
    {
     "name": "stdout",
     "output_type": "stream",
     "text": [
      "Connected to MySQL database\n",
      "[]\n",
      "Connection closed\n"
     ]
    }
   ],
   "source": [
    "import pandas as pd\n",
    "import mysql.connector\n",
    "df = pd.read_excel(\"vehicle_data.xlsx\")\n",
    "\n",
    "# MySQL database connection parameters\n",
    "mysql_username = 'root'\n",
    "mysql_password = 'hp3416431#'\n",
    "mysql_host = 'localhost'\n",
    "mysql_port = 8051\n",
    "mysql_database = 'mydb'\n",
    "\n",
    "# Create a connection string\n",
    "connection_string = f\"mysql+mysqlconnector://{mysql_username}:{mysql_password}@{mysql_host}:{mysql_port}/{mysql_database}\"\n",
    "\n",
    "# Establish a connection\n",
    "try:\n",
    "    connection = mysql.connector.connect(\n",
    "        user=mysql_username,\n",
    "        password=mysql_password,\n",
    "        host=mysql_host,\n",
    "        port=mysql_port,\n",
    "        database=mysql_database\n",
    "    )\n",
    "\n",
    "    if connection.is_connected():\n",
    "        print(\"Connected to MySQL database\")\n",
    "        cursor = connection.cursor()\n",
    "\n",
    "        table_name = \"website_vehicle\"\n",
    "\n",
    "        delete_query = f\"DELETE FROM {table_name}\"\n",
    "\n",
    "        cursor.execute(delete_query)\n",
    "        query = f\"SELECT * FROM website_vehicle\"\n",
    "        cursor.excute(query)\n",
    "        res = cursor.fetchall()\n",
    "        print(res)\n",
    "\n",
    "\n",
    "except mysql.connector.Error as err:\n",
    "    print(f\"Error: {err}\")\n",
    "\n",
    "finally:\n",
    "    # Close the connection when done\n",
    "    if 'connection' in locals() and connection.is_connected():\n",
    "        connection.close()\n",
    "        print(\"Connection closed\")\n"
   ]
  },
  {
   "cell_type": "code",
   "execution_count": null,
   "metadata": {},
   "outputs": [],
   "source": []
  }
 ],
 "metadata": {
  "kernelspec": {
   "display_name": "myenv",
   "language": "python",
   "name": "python3"
  },
  "language_info": {
   "codemirror_mode": {
    "name": "ipython",
    "version": 3
   },
   "file_extension": ".py",
   "mimetype": "text/x-python",
   "name": "python",
   "nbconvert_exporter": "python",
   "pygments_lexer": "ipython3",
   "version": "3.10.9"
  }
 },
 "nbformat": 4,
 "nbformat_minor": 2
}
